{
 "cells": [
  {
   "cell_type": "code",
   "execution_count": 2,
   "id": "08eb6479-6b45-44ba-997c-9f0b120abf8e",
   "metadata": {},
   "outputs": [],
   "source": [
    "import json \n",
    "import requests\n",
    "import pandas as pd"
   ]
  },
  {
   "cell_type": "markdown",
   "id": "41195711-8f49-4f7c-8c25-eb43b26bbdf4",
   "metadata": {},
   "source": [
    "The following are the unique api keys that I alternated between to pull the data as there were hourly request limits."
   ]
  },
  {
   "cell_type": "code",
   "execution_count": 22,
   "id": "43120cb3-8d17-4b75-91aa-e9c117d7cee9",
   "metadata": {},
   "outputs": [],
   "source": [
    "api_key_1 = 'eH8Q9IhlhrVghuEXjqZgNdxQ30zUEylwaGSPRQtq'\n",
    "api_key_2 = 'JkenCwSqw0QGJb3HGwP8JIYQ9bKhGQEVVxGjfbm5'\n",
    "headers = {'Content-Type': 'application/json'}"
   ]
  },
  {
   "cell_type": "markdown",
   "id": "2965ca14-76b5-4478-adb4-6073ae6152cc",
   "metadata": {},
   "source": [
    "With the below code, I got all the location and ID information for the comments"
   ]
  },
  {
   "cell_type": "code",
   "execution_count": 8,
   "id": "9c6f01a3-0d06-4c17-bd90-43bfc8247a6a",
   "metadata": {},
   "outputs": [],
   "source": [
    "# initialize list to collect comment IDs\n",
    "comm_ids = []\n",
    "\n",
    "# for each page, get the comment id\n",
    "for pg in range(20):\n",
    "    url= 'https://api.regulations.gov/v4/comments?filter[commentOnId]=0900006484f67412&page[size]=250&page[number]='+str(pg)+'&api_key='+api_key\n",
    "    response = requests.get(url, headers = headers)\n",
    "    if response.status_code == 200:\n",
    "        doc_dict = json.loads(response.content.decode('utf-8'))  \n",
    "        #docDF = pd.json_normalize(doc_dict)\n",
    "        #get all comment ids for the page and append to list\n",
    "        comm_dict = doc_dict['data']\n",
    "        for comms in comm_dict:\n",
    "            if comms['type'] == 'comments':\n",
    "                comm_ids.append(comms['id'])"
   ]
  },
  {
   "cell_type": "markdown",
   "id": "163bfc39-0ce9-40f0-a731-f262a24ee6c9",
   "metadata": {},
   "source": [
    "The below initializes a blank DataFrame. Due to the request limits for the API key, I had to pull about 5,000 records once per hour. Therefore, I would append each new 5,000 records to the original dataFrame. I re-ran the the second code chunk manually, so this may give different results if you re-run it"
   ]
  },
  {
   "cell_type": "code",
   "execution_count": null,
   "id": "fd10b1d2",
   "metadata": {},
   "outputs": [],
   "source": [
    "df_total = pd.DataFrame(columns = ['ID', 'Num of Duplicates', 'Comment', 'Page Count'])"
   ]
  },
  {
   "cell_type": "code",
   "execution_count": 48,
   "id": "b5d952e4-e172-4c78-82f2-67c19af58c9a",
   "metadata": {},
   "outputs": [],
   "source": [
    "comm_df = pd.DataFrame(columns = ['ID', 'Num of Duplicates', 'Comment', 'Page Count'])\n",
    "# last ran at 2:46\n",
    "\n",
    "# for each comment, get all of its associated information\n",
    "for c in comm_ids[4500:]: # pre-set up; change this\n",
    "    url= 'https://api.regulations.gov/v4/comments/'+c+'?api_key='+api_key_1 #change before running\n",
    "    response = requests.get(url, headers = headers)\n",
    "    if response.status_code == 200:\n",
    "        comm_info = json.loads(response.content.decode('utf-8')) \n",
    "        comm_dict_info = {'ID': comm_info['data']['id'], \n",
    "               'Num of Duplicates': comm_info['data']['attributes']['duplicateComments'],\n",
    "               'Comment': comm_info['data']['attributes']['comment'],\n",
    "               'Page Count': comm_info['data']['attributes']['pageCount']}\n",
    "        comm_df = comm_df.append(comm_dict_info, ignore_index = True)\n",
    "df_total = df_total.append(comm_df, ignore_index = True)"
   ]
  },
  {
   "cell_type": "markdown",
   "id": "6e733206-0aef-4b92-87f1-0be702e22034",
   "metadata": {},
   "source": [
    "From the below output, we can see that there are 4,500 comments"
   ]
  },
  {
   "cell_type": "code",
   "execution_count": 49,
   "id": "e1800bc7",
   "metadata": {},
   "outputs": [
    {
     "data": {
      "text/html": [
       "<div>\n",
       "<style scoped>\n",
       "    .dataframe tbody tr th:only-of-type {\n",
       "        vertical-align: middle;\n",
       "    }\n",
       "\n",
       "    .dataframe tbody tr th {\n",
       "        vertical-align: top;\n",
       "    }\n",
       "\n",
       "    .dataframe thead th {\n",
       "        text-align: right;\n",
       "    }\n",
       "</style>\n",
       "<table border=\"1\" class=\"dataframe\">\n",
       "  <thead>\n",
       "    <tr style=\"text-align: right;\">\n",
       "      <th></th>\n",
       "      <th>ID</th>\n",
       "      <th>Num of Duplicates</th>\n",
       "      <th>Comment</th>\n",
       "      <th>Page Count</th>\n",
       "    </tr>\n",
       "  </thead>\n",
       "  <tbody>\n",
       "    <tr>\n",
       "      <th>0</th>\n",
       "      <td>CDC-2022-0024-1515</td>\n",
       "      <td>0</td>\n",
       "      <td>Good Afternoon,&lt;br/&gt;&lt;span style='padding-left:...</td>\n",
       "      <td>1</td>\n",
       "    </tr>\n",
       "    <tr>\n",
       "      <th>1</th>\n",
       "      <td>CDC-2022-0024-1497</td>\n",
       "      <td>0</td>\n",
       "      <td>There is a real concern about the abuse of opi...</td>\n",
       "      <td>1</td>\n",
       "    </tr>\n",
       "    <tr>\n",
       "      <th>2</th>\n",
       "      <td>CDC-2022-0024-1501</td>\n",
       "      <td>0</td>\n",
       "      <td>I HAVE BEEN A PATIENT AT [location redacted] I...</td>\n",
       "      <td>1</td>\n",
       "    </tr>\n",
       "    <tr>\n",
       "      <th>3</th>\n",
       "      <td>CDC-2022-0024-1504</td>\n",
       "      <td>0</td>\n",
       "      <td>&lt;span style='padding-left: 30px'&gt;&lt;/span&gt;Sworn ...</td>\n",
       "      <td>1</td>\n",
       "    </tr>\n",
       "    <tr>\n",
       "      <th>4</th>\n",
       "      <td>CDC-2022-0024-1502</td>\n",
       "      <td>0</td>\n",
       "      <td>My name is [name redacted]. I am 66 years old,...</td>\n",
       "      <td>1</td>\n",
       "    </tr>\n",
       "    <tr>\n",
       "      <th>...</th>\n",
       "      <td>...</td>\n",
       "      <td>...</td>\n",
       "      <td>...</td>\n",
       "      <td>...</td>\n",
       "    </tr>\n",
       "    <tr>\n",
       "      <th>4496</th>\n",
       "      <td>CDC-2022-0024-1726</td>\n",
       "      <td>0</td>\n",
       "      <td>I am a retired physician. I am disabled. I als...</td>\n",
       "      <td>1</td>\n",
       "    </tr>\n",
       "    <tr>\n",
       "      <th>4497</th>\n",
       "      <td>CDC-2022-0024-1729</td>\n",
       "      <td>0</td>\n",
       "      <td>I&amp;#39;ve suffered from chronic pain since 2006...</td>\n",
       "      <td>1</td>\n",
       "    </tr>\n",
       "    <tr>\n",
       "      <th>4498</th>\n",
       "      <td>CDC-2022-0024-1727</td>\n",
       "      <td>0</td>\n",
       "      <td>I apologize for a few typos in my first commen...</td>\n",
       "      <td>1</td>\n",
       "    </tr>\n",
       "    <tr>\n",
       "      <th>4499</th>\n",
       "      <td>CDC-2022-0024-1742</td>\n",
       "      <td>0</td>\n",
       "      <td>I have been a chronic pain patient for 21 year...</td>\n",
       "      <td>1</td>\n",
       "    </tr>\n",
       "    <tr>\n",
       "      <th>4500</th>\n",
       "      <td>CDC-2022-0024-1756</td>\n",
       "      <td>0</td>\n",
       "      <td>I was diagnosed with Ankylosing Spondylitis ...</td>\n",
       "      <td>1</td>\n",
       "    </tr>\n",
       "  </tbody>\n",
       "</table>\n",
       "<p>4501 rows × 4 columns</p>\n",
       "</div>"
      ],
      "text/plain": [
       "                      ID Num of Duplicates  \\\n",
       "0     CDC-2022-0024-1515                 0   \n",
       "1     CDC-2022-0024-1497                 0   \n",
       "2     CDC-2022-0024-1501                 0   \n",
       "3     CDC-2022-0024-1504                 0   \n",
       "4     CDC-2022-0024-1502                 0   \n",
       "...                  ...               ...   \n",
       "4496  CDC-2022-0024-1726                 0   \n",
       "4497  CDC-2022-0024-1729                 0   \n",
       "4498  CDC-2022-0024-1727                 0   \n",
       "4499  CDC-2022-0024-1742                 0   \n",
       "4500  CDC-2022-0024-1756                 0   \n",
       "\n",
       "                                                Comment Page Count  \n",
       "0     Good Afternoon,<br/><span style='padding-left:...          1  \n",
       "1     There is a real concern about the abuse of opi...          1  \n",
       "2     I HAVE BEEN A PATIENT AT [location redacted] I...          1  \n",
       "3     <span style='padding-left: 30px'></span>Sworn ...          1  \n",
       "4     My name is [name redacted]. I am 66 years old,...          1  \n",
       "...                                                 ...        ...  \n",
       "4496  I am a retired physician. I am disabled. I als...          1  \n",
       "4497  I&#39;ve suffered from chronic pain since 2006...          1  \n",
       "4498  I apologize for a few typos in my first commen...          1  \n",
       "4499  I have been a chronic pain patient for 21 year...          1  \n",
       "4500    I was diagnosed with Ankylosing Spondylitis ...          1  \n",
       "\n",
       "[4501 rows x 4 columns]"
      ]
     },
     "execution_count": 49,
     "metadata": {},
     "output_type": "execute_result"
    }
   ],
   "source": [
    "df_total"
   ]
  },
  {
   "cell_type": "code",
   "execution_count": 50,
   "id": "1b364e5b-0b1c-455c-adc2-418385817f5f",
   "metadata": {},
   "outputs": [
    {
     "name": "stderr",
     "output_type": "stream",
     "text": [
      "C:\\Users\\cbolt\\anaconda3\\lib\\site-packages\\xlsxwriter\\worksheet.py:1168: UserWarning: Ignoring URL 'https://www.federalregister.gov/documents/2021/12/02/2021-26227/established-aggregate-production-quotas-for-schedule-i-and-ii-controlled-substances-and-assessment%3cbr/%3e%3cbr/%3eThe%20DEA%20and%20FDA%20NEVER%20SET%20STRICT%20MME%20requirements%20on%20the%20American%20people,%20If%20you%20read%20the%20federal%20register%20from%2012/02/21.%20%3cbr/%3e%3cbr/%3ePrescribing%20Hesitancy%3cbr/%3e%3cbr/%3eIssue:%3cbr/%3e%3cbr/%3eMany%20commenters,%20most%20of%20whom%20self-identified%20as%20chronic%20pain%20patients,%20expressed%20general%20concerns%20that%20the%20%3cbr/%3e%3cbr/%3eCDC%20Guidelines%20for%20Prescribing%20Opioids%20for%20Chronic%20Pain,%3cbr/%3e%3cbr/%3eissued%20in%202016,%20are%20preventing%20doctors%20from%20prescribing%20pain%20medication%20in%20dosages%20that%20adequately%20control%20chronic%20pain,%20forcing%20them%20to%20taper%20opioid%20medication%20dosages%20inappropriately,%20and%20causing%20them%20to%20refuse%20to%20prescribe%20opioid%20prescriptions%20to%20chronic%20pain%20patients.%20These%20comments%20also%20raised%20concerns%20that%20some%20health%20insurers%20have%20mandated%20that%20opioid%20medication%20dosages%20be%20tapered%20for%20continued%20insurance%20coverage%20or%20have%20denied%20coverage%20for%20prescriptions%20from%20out-of-network%20providers.%20Commenters%20noted%20that%20worker&' with link or location/anchor > 2079 characters since it exceeds Excel's limit for URLS\n",
      "  warn(\"Ignoring URL '%s' with link or location/anchor > %d \"\n"
     ]
    }
   ],
   "source": [
    "# convert the file to Excel\n",
    "df_total.to_excel('Opioid Comment Data from API.xlsx')"
   ]
  }
 ],
 "metadata": {
  "kernelspec": {
   "display_name": "Python 3 (ipykernel)",
   "language": "python",
   "name": "python3"
  },
  "language_info": {
   "codemirror_mode": {
    "name": "ipython",
    "version": 3
   },
   "file_extension": ".py",
   "mimetype": "text/x-python",
   "name": "python",
   "nbconvert_exporter": "python",
   "pygments_lexer": "ipython3",
   "version": "3.9.7"
  }
 },
 "nbformat": 4,
 "nbformat_minor": 5
}
